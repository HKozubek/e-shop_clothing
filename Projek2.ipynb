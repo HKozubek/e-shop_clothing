{
 "cells": [
  {
   "cell_type": "markdown",
   "metadata": {},
   "source": [
    "# Projek2 WUM\n",
    "# e-shop clothing 2008\n",
    "## Hubert Kozubek Arkadiusz Kniaź"
   ]
  },
  {
   "cell_type": "code",
   "execution_count": 21,
   "metadata": {},
   "outputs": [],
   "source": [
    "import pandas as pd\n",
    "import numpy as np\n",
    "import seaborn as sns\n",
    "import matplotlib.pyplot as plt\n",
    "# from sklearn.cluster import KMeans\n",
    "import random"
   ]
  },
  {
   "cell_type": "markdown",
   "metadata": {},
   "source": [
    "Data description “e-shop clothing 2008”\n",
    "\n",
    "Variables:\n",
    "\n",
    "1. YEAR (2008)\n",
    "\n",
    "2. MONTH -> from April (4) to August (8)\n",
    "3. DAY -> day number of the month\n",
    "\n",
    "4. ORDER -> sequence of clicks during one session\n",
    "5. COUNTRY -> variable indicating the country of origin of the IP address with the \n",
    "following categories:\n",
    "\n",
    "1-Australia\n",
    "2-Austria\n",
    "3-Belgium\n",
    "4-British Virgin Islands\n",
    "5-Cayman Islands\n",
    "6-Christmas Island\n",
    "7-Croatia\n",
    "8-Cyprus\n",
    "9-Czech Republic\n",
    "10-Denmark\n",
    "11-Estonia\n",
    "12-unidentified\n",
    "13-Faroe Islands\n",
    "14-Finland\n",
    "15-France\n",
    "16-Germany\n",
    "17-Greece\n",
    "18-Hungary\n",
    "19-Iceland\n",
    "20-India\n",
    "21-Ireland\n",
    "22-Italy\n",
    "23-Latvia\n",
    "24-Lithuania\n",
    "25-Luxembourg\n",
    "26-Mexico\n",
    "27-Netherlands\n",
    "28-Norway\n",
    "29-Poland\n",
    "30-Portugal\n",
    "31-Romania\n",
    "32-Russia\n",
    "33-San Marino\n",
    "34-Slovakia\n",
    "35-Slovenia\n",
    "36-Spain\n",
    "37-Sweden\n",
    "38-Switzerland\n",
    "39-Ukraine\n",
    "40-United Arab Emirates\n",
    "41-United Kingdom\n",
    "42-USA\n",
    "43-biz (*.biz)\n",
    "44-com (*.com)\n",
    "45-int (*.int)\n",
    "46-net (*.net)\n",
    "47-org (*.org)\n",
    "6. SESSION ID -> variable indicating session id (short record)\n",
    "\n",
    "\n",
    "7. PAGE 1 (MAIN CATEGORY) -> concerns the main product category:\n",
    "1-trousers\n",
    "2-skirts\n",
    "3-blouses\n",
    "4-sale\n",
    "\n",
    "========================================================\n",
    "\n",
    "8. PAGE 2 (CLOTHING MODEL) -> contains information about the code for each product \n",
    "(217 products)\n",
    "\n",
    "========================================================\n",
    "\n",
    "9. COLOUR -> colour of product\n",
    "\n",
    "1-beige\n",
    "2-black\n",
    "3-blue\n",
    "4-brown\n",
    "5-burgundy\n",
    "6-gray\n",
    "7-green\n",
    "8-navy blue\n",
    "9-of many colors\n",
    "10-olive\n",
    "11-pink\n",
    "12-red\n",
    "13-violet\n",
    "14-white\n",
    "\n",
    "========================================================\n",
    "\n",
    "10. LOCATION -> photo location on the page, the screen has been divided into six parts:\n",
    "\n",
    "1-top left\n",
    "2-top in the middle\n",
    "3-top right\n",
    "4-bottom left\n",
    "5-bottom in the middle\n",
    "6-bottom right\n",
    "\n",
    "========================================================\n",
    "\n",
    "11. MODEL PHOTOGRAPHY -> variable with two categories: \n",
    "\n",
    "1-en face\n",
    "2-profile\n",
    "\n",
    "========================================================\n",
    "\n",
    "12. PRICE -> price in US dollars\n",
    "\n",
    "========================================================\n",
    "\n",
    "13. PRICE 2 -> variable informing whether the price of a particular product is higher than \n",
    "the average price for the entire product category\n",
    "\n",
    "1-yes\n",
    "2-no\n",
    "\n",
    "========================================================\n",
    "\n",
    "14. PAGE -> page number within the e-store website (from 1 to 5)\n",
    "\n",
    "++++++++++++++++++++++++++++++++++++++++++++++++++++++++\n",
    "\n",
    "If you use this dataset, please cite:\n",
    "\n",
    "Łapczyński M., Białowąs S. (2013) Discovering Patterns of Users' Behaviour in an E-shop - \n",
    "Comparison of Consumer Buying Behaviours in Poland and Other European Countries, \n",
    "“Studia Ekonomiczne”, nr 151, “La société de l'information : perspective européenne et \n",
    "globale : les usages et les risques d'Internet pour les citoyens et les consommateurs”, p. 144-\n",
    "153.\n"
   ]
  },
  {
   "cell_type": "code",
   "execution_count": 111,
   "metadata": {},
   "outputs": [],
   "source": [
    "def progress_bar(iteration, total, prefix = '', suffix = '', decimals = 1, length = 100, fill = '█'):\n",
    "    \"\"\"\n",
    "    Call in a loop to create terminal progress bar\n",
    "    @params:\n",
    "        iteration   - Required  : current iteration (Int)\n",
    "        total       - Required  : total iterations (Int)\n",
    "        prefix      - Optional  : prefix string (Str)\n",
    "        suffix      - Optional  : suffix string (Str)\n",
    "        decimals    - Optional  : positive number of decimals in percent complete (Int)\n",
    "        length      - Optional  : character length of bar (Int)\n",
    "        fill        - Optional  : bar fill character (Str)\n",
    "    \"\"\"\n",
    "    percent = (\"{0:.\" + str(decimals) + \"f}\").format(100 * (iteration / float(total)))\n",
    "    filledLength = int(length * iteration // total)\n",
    "    bar = fill * filledLength + '-' * (length - filledLength)\n",
    "    print('\\r%s |%s| %s%% %s' % (prefix, bar, percent, suffix), end = '\\r')\n",
    "    # Print New Line on Complete\n",
    "    "
   ]
  },
  {
   "cell_type": "code",
   "execution_count": 23,
   "metadata": {},
   "outputs": [
    {
     "data": {
      "text/html": [
       "<div>\n",
       "<style scoped>\n",
       "    .dataframe tbody tr th:only-of-type {\n",
       "        vertical-align: middle;\n",
       "    }\n",
       "\n",
       "    .dataframe tbody tr th {\n",
       "        vertical-align: top;\n",
       "    }\n",
       "\n",
       "    .dataframe thead th {\n",
       "        text-align: right;\n",
       "    }\n",
       "</style>\n",
       "<table border=\"1\" class=\"dataframe\">\n",
       "  <thead>\n",
       "    <tr style=\"text-align: right;\">\n",
       "      <th></th>\n",
       "      <th>year</th>\n",
       "      <th>month</th>\n",
       "      <th>day</th>\n",
       "      <th>order</th>\n",
       "      <th>country</th>\n",
       "      <th>session ID</th>\n",
       "      <th>page 1 (main category)</th>\n",
       "      <th>page 2 (clothing model)</th>\n",
       "      <th>colour</th>\n",
       "      <th>location</th>\n",
       "      <th>model photography</th>\n",
       "      <th>price</th>\n",
       "      <th>price 2</th>\n",
       "      <th>page</th>\n",
       "    </tr>\n",
       "  </thead>\n",
       "  <tbody>\n",
       "    <tr>\n",
       "      <th>0</th>\n",
       "      <td>2008</td>\n",
       "      <td>4</td>\n",
       "      <td>1</td>\n",
       "      <td>1</td>\n",
       "      <td>29</td>\n",
       "      <td>1</td>\n",
       "      <td>1</td>\n",
       "      <td>A13</td>\n",
       "      <td>1</td>\n",
       "      <td>5</td>\n",
       "      <td>1</td>\n",
       "      <td>28</td>\n",
       "      <td>2</td>\n",
       "      <td>1</td>\n",
       "    </tr>\n",
       "    <tr>\n",
       "      <th>1</th>\n",
       "      <td>2008</td>\n",
       "      <td>4</td>\n",
       "      <td>1</td>\n",
       "      <td>2</td>\n",
       "      <td>29</td>\n",
       "      <td>1</td>\n",
       "      <td>1</td>\n",
       "      <td>A16</td>\n",
       "      <td>1</td>\n",
       "      <td>6</td>\n",
       "      <td>1</td>\n",
       "      <td>33</td>\n",
       "      <td>2</td>\n",
       "      <td>1</td>\n",
       "    </tr>\n",
       "    <tr>\n",
       "      <th>2</th>\n",
       "      <td>2008</td>\n",
       "      <td>4</td>\n",
       "      <td>1</td>\n",
       "      <td>3</td>\n",
       "      <td>29</td>\n",
       "      <td>1</td>\n",
       "      <td>2</td>\n",
       "      <td>B4</td>\n",
       "      <td>10</td>\n",
       "      <td>2</td>\n",
       "      <td>1</td>\n",
       "      <td>52</td>\n",
       "      <td>1</td>\n",
       "      <td>1</td>\n",
       "    </tr>\n",
       "    <tr>\n",
       "      <th>3</th>\n",
       "      <td>2008</td>\n",
       "      <td>4</td>\n",
       "      <td>1</td>\n",
       "      <td>4</td>\n",
       "      <td>29</td>\n",
       "      <td>1</td>\n",
       "      <td>2</td>\n",
       "      <td>B17</td>\n",
       "      <td>6</td>\n",
       "      <td>6</td>\n",
       "      <td>2</td>\n",
       "      <td>38</td>\n",
       "      <td>2</td>\n",
       "      <td>1</td>\n",
       "    </tr>\n",
       "    <tr>\n",
       "      <th>4</th>\n",
       "      <td>2008</td>\n",
       "      <td>4</td>\n",
       "      <td>1</td>\n",
       "      <td>5</td>\n",
       "      <td>29</td>\n",
       "      <td>1</td>\n",
       "      <td>2</td>\n",
       "      <td>B8</td>\n",
       "      <td>4</td>\n",
       "      <td>3</td>\n",
       "      <td>2</td>\n",
       "      <td>52</td>\n",
       "      <td>1</td>\n",
       "      <td>1</td>\n",
       "    </tr>\n",
       "    <tr>\n",
       "      <th>...</th>\n",
       "      <td>...</td>\n",
       "      <td>...</td>\n",
       "      <td>...</td>\n",
       "      <td>...</td>\n",
       "      <td>...</td>\n",
       "      <td>...</td>\n",
       "      <td>...</td>\n",
       "      <td>...</td>\n",
       "      <td>...</td>\n",
       "      <td>...</td>\n",
       "      <td>...</td>\n",
       "      <td>...</td>\n",
       "      <td>...</td>\n",
       "      <td>...</td>\n",
       "    </tr>\n",
       "    <tr>\n",
       "      <th>165469</th>\n",
       "      <td>2008</td>\n",
       "      <td>8</td>\n",
       "      <td>13</td>\n",
       "      <td>1</td>\n",
       "      <td>29</td>\n",
       "      <td>24024</td>\n",
       "      <td>2</td>\n",
       "      <td>B10</td>\n",
       "      <td>2</td>\n",
       "      <td>4</td>\n",
       "      <td>1</td>\n",
       "      <td>67</td>\n",
       "      <td>1</td>\n",
       "      <td>1</td>\n",
       "    </tr>\n",
       "    <tr>\n",
       "      <th>165470</th>\n",
       "      <td>2008</td>\n",
       "      <td>8</td>\n",
       "      <td>13</td>\n",
       "      <td>1</td>\n",
       "      <td>9</td>\n",
       "      <td>24025</td>\n",
       "      <td>1</td>\n",
       "      <td>A11</td>\n",
       "      <td>3</td>\n",
       "      <td>4</td>\n",
       "      <td>1</td>\n",
       "      <td>62</td>\n",
       "      <td>1</td>\n",
       "      <td>1</td>\n",
       "    </tr>\n",
       "    <tr>\n",
       "      <th>165471</th>\n",
       "      <td>2008</td>\n",
       "      <td>8</td>\n",
       "      <td>13</td>\n",
       "      <td>1</td>\n",
       "      <td>34</td>\n",
       "      <td>24026</td>\n",
       "      <td>1</td>\n",
       "      <td>A2</td>\n",
       "      <td>3</td>\n",
       "      <td>1</td>\n",
       "      <td>1</td>\n",
       "      <td>43</td>\n",
       "      <td>2</td>\n",
       "      <td>1</td>\n",
       "    </tr>\n",
       "    <tr>\n",
       "      <th>165472</th>\n",
       "      <td>2008</td>\n",
       "      <td>8</td>\n",
       "      <td>13</td>\n",
       "      <td>2</td>\n",
       "      <td>34</td>\n",
       "      <td>24026</td>\n",
       "      <td>3</td>\n",
       "      <td>C2</td>\n",
       "      <td>12</td>\n",
       "      <td>1</td>\n",
       "      <td>1</td>\n",
       "      <td>43</td>\n",
       "      <td>1</td>\n",
       "      <td>1</td>\n",
       "    </tr>\n",
       "    <tr>\n",
       "      <th>165473</th>\n",
       "      <td>2008</td>\n",
       "      <td>8</td>\n",
       "      <td>13</td>\n",
       "      <td>3</td>\n",
       "      <td>34</td>\n",
       "      <td>24026</td>\n",
       "      <td>2</td>\n",
       "      <td>B2</td>\n",
       "      <td>3</td>\n",
       "      <td>1</td>\n",
       "      <td>2</td>\n",
       "      <td>57</td>\n",
       "      <td>1</td>\n",
       "      <td>1</td>\n",
       "    </tr>\n",
       "  </tbody>\n",
       "</table>\n",
       "<p>165474 rows × 14 columns</p>\n",
       "</div>"
      ],
      "text/plain": [
       "        year  month  day  order  country  session ID  page 1 (main category)  \\\n",
       "0       2008      4    1      1       29           1                       1   \n",
       "1       2008      4    1      2       29           1                       1   \n",
       "2       2008      4    1      3       29           1                       2   \n",
       "3       2008      4    1      4       29           1                       2   \n",
       "4       2008      4    1      5       29           1                       2   \n",
       "...      ...    ...  ...    ...      ...         ...                     ...   \n",
       "165469  2008      8   13      1       29       24024                       2   \n",
       "165470  2008      8   13      1        9       24025                       1   \n",
       "165471  2008      8   13      1       34       24026                       1   \n",
       "165472  2008      8   13      2       34       24026                       3   \n",
       "165473  2008      8   13      3       34       24026                       2   \n",
       "\n",
       "       page 2 (clothing model)  colour  location  model photography  price  \\\n",
       "0                          A13       1         5                  1     28   \n",
       "1                          A16       1         6                  1     33   \n",
       "2                           B4      10         2                  1     52   \n",
       "3                          B17       6         6                  2     38   \n",
       "4                           B8       4         3                  2     52   \n",
       "...                        ...     ...       ...                ...    ...   \n",
       "165469                     B10       2         4                  1     67   \n",
       "165470                     A11       3         4                  1     62   \n",
       "165471                      A2       3         1                  1     43   \n",
       "165472                      C2      12         1                  1     43   \n",
       "165473                      B2       3         1                  2     57   \n",
       "\n",
       "        price 2  page  \n",
       "0             2     1  \n",
       "1             2     1  \n",
       "2             1     1  \n",
       "3             2     1  \n",
       "4             1     1  \n",
       "...         ...   ...  \n",
       "165469        1     1  \n",
       "165470        1     1  \n",
       "165471        2     1  \n",
       "165472        1     1  \n",
       "165473        1     1  \n",
       "\n",
       "[165474 rows x 14 columns]"
      ]
     },
     "execution_count": 23,
     "metadata": {},
     "output_type": "execute_result"
    }
   ],
   "source": [
    "df=pd.read_csv('e_shop_clothing_2008.csv',sep=';')\n",
    "df"
   ]
  },
  {
   "cell_type": "code",
   "execution_count": 24,
   "metadata": {},
   "outputs": [
    {
     "name": "stdout",
     "output_type": "stream",
     "text": [
      "<class 'pandas.core.frame.DataFrame'>\n",
      "RangeIndex: 165474 entries, 0 to 165473\n",
      "Data columns (total 14 columns):\n",
      " #   Column                   Non-Null Count   Dtype \n",
      "---  ------                   --------------   ----- \n",
      " 0   year                     165474 non-null  int64 \n",
      " 1   month                    165474 non-null  int64 \n",
      " 2   day                      165474 non-null  int64 \n",
      " 3   order                    165474 non-null  int64 \n",
      " 4   country                  165474 non-null  int64 \n",
      " 5   session ID               165474 non-null  int64 \n",
      " 6   page 1 (main category)   165474 non-null  int64 \n",
      " 7   page 2 (clothing model)  165474 non-null  object\n",
      " 8   colour                   165474 non-null  int64 \n",
      " 9   location                 165474 non-null  int64 \n",
      " 10  model photography        165474 non-null  int64 \n",
      " 11  price                    165474 non-null  int64 \n",
      " 12  price 2                  165474 non-null  int64 \n",
      " 13  page                     165474 non-null  int64 \n",
      "dtypes: int64(13), object(1)\n",
      "memory usage: 17.7+ MB\n"
     ]
    }
   ],
   "source": [
    "df.info()"
   ]
  },
  {
   "cell_type": "code",
   "execution_count": 25,
   "metadata": {},
   "outputs": [
    {
     "data": {
      "text/plain": [
       "Index(['year', 'month', 'day', 'order', 'country', 'session ID',\n",
       "       'page 1 (main category)', 'page 2 (clothing model)', 'colour',\n",
       "       'location', 'model photography', 'price', 'price 2', 'page'],\n",
       "      dtype='object')"
      ]
     },
     "execution_count": 25,
     "metadata": {},
     "output_type": "execute_result"
    }
   ],
   "source": [
    "df.columns"
   ]
  },
  {
   "cell_type": "code",
   "execution_count": 26,
   "metadata": {},
   "outputs": [],
   "source": [
    "# n_list = [2,3,4,5,6,7,8,9,10]"
   ]
  },
  {
   "cell_type": "code",
   "execution_count": 27,
   "metadata": {},
   "outputs": [],
   "source": [
    "# inertia_list = []\n",
    "# progress_bar(0, len(n_list), prefix = 'Progress:', suffix = 'Complete', length = 50)\n",
    "# for index, n in enumerate(n_list):\n",
    "#     model=KMeans(n_clusters=n)\n",
    "#     label = model.fit_predict(df_new)\n",
    "#     inertia_list.append(model.inertia_)\n",
    "#     progress_bar(index+1, len(n_list), prefix = 'Progress:', suffix = 'Complete', length = 50)\n",
    "# plt.plot(n_list, inertia_list, '-o')"
   ]
  },
  {
   "cell_type": "code",
   "execution_count": 28,
   "metadata": {},
   "outputs": [],
   "source": [
    "# encoding categorical data\n",
    "from sklearn.preprocessing import LabelEncoder\n",
    "label_encoder = LabelEncoder()\n",
    "categorical_features = [feature for feature in df.columns if df[feature].dtypes == 'O']\n",
    "for feature in categorical_features:\n",
    "    df[feature]=label_encoder.fit_transform(df[feature])"
   ]
  },
  {
   "cell_type": "code",
   "execution_count": 29,
   "metadata": {},
   "outputs": [
    {
     "name": "stdout",
     "output_type": "stream",
     "text": [
      "page 2 (clothing model) [4, 7, 70, 51, 74, 127, 128, 198, 215, 66, 55, 58, 61, 1, 135, 162, 161, 109, 132, 77, 84, 209, 27, 30, 93, 89, 82, 124, 60, 2, 120, 191, 186, 185, 177, 180, 171, 150, 119, 57, 86, 103, 110, 121, 112, 9, 0, 43, 50, 22, 64, 65, 142, 11, 38, 35, 53, 47, 49, 75, 54, 59, 68, 69, 87, 102, 104, 126, 130, 192, 193, 39, 117, 67, 8, 40, 41, 42, 12, 25, 78, 90, 138, 33, 15, 46, 44, 81, 3, 24, 6, 73, 133, 85, 146, 136, 94, 100, 28, 29, 116, 156, 13, 194, 158, 160, 197, 187, 172, 168, 20, 62, 141, 10, 52, 48, 72, 21, 178, 98, 134, 105, 106, 108, 122, 123, 36, 63, 45, 190, 143, 137, 76, 80, 5, 16, 147, 169, 181, 152, 114, 115, 56, 23, 129, 125, 18, 26, 31, 32, 212, 145, 167, 213, 210, 208, 34, 71, 157, 201, 140, 144, 163, 131, 79, 99, 179, 202, 164, 216, 153, 182, 195, 165, 200, 14, 111, 139, 83, 175, 118, 214, 166, 176, 173, 189, 196, 107, 88, 95, 96, 113, 188, 148, 204, 205, 92, 170, 97, 203, 101, 91, 19, 206, 199, 207, 17, 154, 151, 37, 159, 183, 174, 184, 155, 149, 211] [4, 7, 70, 51, 74, 127, 128, 198, 215, 66, 55, 58, 61, 1, 135, 162, 161, 109, 132, 77, 84, 209, 27, 30, 93, 89, 82, 124, 60, 2, 120, 191, 186, 185, 177, 180, 171, 150, 119, 57, 86, 103, 110, 121, 112, 9, 0, 43, 50, 22, 64, 65, 142, 11, 38, 35, 53, 47, 49, 75, 54, 59, 68, 69, 87, 102, 104, 126, 130, 192, 193, 39, 117, 67, 8, 40, 41, 42, 12, 25, 78, 90, 138, 33, 15, 46, 44, 81, 3, 24, 6, 73, 133, 85, 146, 136, 94, 100, 28, 29, 116, 156, 13, 194, 158, 160, 197, 187, 172, 168, 20, 62, 141, 10, 52, 48, 72, 21, 178, 98, 134, 105, 106, 108, 122, 123, 36, 63, 45, 190, 143, 137, 76, 80, 5, 16, 147, 169, 181, 152, 114, 115, 56, 23, 129, 125, 18, 26, 31, 32, 212, 145, 167, 213, 210, 208, 34, 71, 157, 201, 140, 144, 163, 131, 79, 99, 179, 202, 164, 216, 153, 182, 195, 165, 200, 14, 111, 139, 83, 175, 118, 214, 166, 176, 173, 189, 196, 107, 88, 95, 96, 113, 188, 148, 204, 205, 92, 170, 97, 203, 101, 91, 19, 206, 199, 207, 17, 154, 151, 37, 159, 183, 174, 184, 155, 149, 211] \n",
      "\n"
     ]
    }
   ],
   "source": [
    "for feature in categorical_features:\n",
    "    print(feature, list(df[feature].unique()), list(label_encoder.fit_transform(df[feature].unique())), \"\\n\")"
   ]
  },
  {
   "cell_type": "code",
   "execution_count": 30,
   "metadata": {},
   "outputs": [],
   "source": [
    "from pyclustering.cluster.kmedoids import kmedoids\n",
    "from pyclustering.utils.metric import distance_metric, gower_distance_numpy\n",
    "from pyclustering.cluster.center_initializer import random_center_initializer\n",
    "from pyclustering.cluster.encoder import type_encoding\n",
    "from pyclustering.cluster.encoder import cluster_encoder"
   ]
  },
  {
   "cell_type": "code",
   "execution_count": 31,
   "metadata": {},
   "outputs": [],
   "source": [
    "X = df.iloc[:, :].values"
   ]
  },
  {
   "cell_type": "markdown",
   "metadata": {},
   "source": [
    "## Defining Gower's distance"
   ]
  },
  {
   "cell_type": "code",
   "execution_count": 32,
   "metadata": {},
   "outputs": [
    {
     "data": {
      "text/plain": [
       "order    194\n",
       "price     64\n",
       "dtype: int64"
      ]
     },
     "execution_count": 32,
     "metadata": {},
     "output_type": "execute_result"
    }
   ],
   "source": [
    "df.iloc[:,[3,11]].max() - df.iloc[:,[3,11]].min()"
   ]
  },
  {
   "cell_type": "code",
   "execution_count": 33,
   "metadata": {},
   "outputs": [],
   "source": [
    "import datetime as dt"
   ]
  },
  {
   "cell_type": "code",
   "execution_count": 34,
   "metadata": {},
   "outputs": [],
   "source": [
    "def date_diff(d1, d2)-> int:\n",
    "    delta = dt.date(2008, d2[0], d2[1]) - dt.date(2008, d1[0], d1[1])\n",
    "    return abs(delta.days)"
   ]
  },
  {
   "cell_type": "code",
   "execution_count": 35,
   "metadata": {},
   "outputs": [
    {
     "name": "stdout",
     "output_type": "stream",
     "text": [
      "1\n",
      "13\n"
     ]
    }
   ],
   "source": [
    "print(df.loc[df.iloc[:,1] == 4, 'day'].min())\n",
    "print(df.loc[df.iloc[:,1] == 8, 'day'].max())"
   ]
  },
  {
   "cell_type": "code",
   "execution_count": 36,
   "metadata": {},
   "outputs": [
    {
     "name": "stdout",
     "output_type": "stream",
     "text": [
      "134\n"
     ]
    }
   ],
   "source": [
    "print(date_diff([4,1], [8,13]))"
   ]
  },
  {
   "cell_type": "code",
   "execution_count": 141,
   "metadata": {},
   "outputs": [
    {
     "name": "stdout",
     "output_type": "stream",
     "text": [
      "2\n"
     ]
    }
   ],
   "source": [
    "a = np.array([0,0,0,0])\n",
    "b = np.array([0,1,2,3])\n",
    "id = [0,2,3]\n",
    "y = np.not_equal(a[id],b[id]).sum()\n",
    "print(y)"
   ]
  },
  {
   "cell_type": "code",
   "execution_count": 160,
   "metadata": {},
   "outputs": [],
   "source": [
    "from pyclustering.utils.metric import distance_metric, type_metric\n",
    "import time\n",
    "def my_gower(point1, point2):\n",
    "    result = 0.0\n",
    "    categorical = [4, 5, 6, 7, 8, 9, 10 , 12, 13] # categorical features\n",
    "    start = time.time()\n",
    "    result += np.not_equal(point1[categorical], point2[categorical]).sum()\n",
    "    t1 = time.time() - start\n",
    "    # print(result)\n",
    "        \n",
    "    numeric = [3, 11] # numeric features\n",
    "    numeric_range = [194, 64] # range of numeric features\n",
    "\n",
    "    start = time.time()\n",
    "    result += (abs(point1[numeric] - point2[numeric])/numeric_range).sum()\n",
    "    t2 = time.time() - start\n",
    "    # print(result)\n",
    "\n",
    "    date_columns = [1, 2] # month and day\n",
    "    start = time.time()\n",
    "    result += date_diff(point1[date_columns], point2[date_columns])/134 # Dates are from 1/04 to 13/08 so max is 134 days\n",
    "    t3 = time.time() - start\n",
    "    # print(result)\n",
    "    return result/14, t1, t2, t3\n",
    "# my_gower_metric = distance_metric(type_metric.USER_DEFINED, func=my_gower)\n"
   ]
  },
  {
   "cell_type": "code",
   "execution_count": 131,
   "metadata": {},
   "outputs": [],
   "source": [
    "def calculate_gower_matrix(X):\n",
    "    categorical = [4, 5, 6, 7, 8, 9, 10 , 12, 13] # categorical features\n",
    "    numeric = [3, 11] # numeric features\n",
    "    numeric_range = np.array([194, 64]) # range of numeric features\n",
    "    date_columns = [1, 2] # month and day\n",
    "    total = X.shape[0]\n",
    "\n",
    "    col1 = np.reshape(np.repeat(X,X.shape[0], axis=0), [X.shape[0],X.shape[0],X.shape[1]])\n",
    "    # print(col1)\n",
    "    y = np.not_equal(X[:, categorical], col1[:, :, categorical]).sum(axis=2)\n",
    "    t = (np.abs(col1[:,:,numeric] - X[:, numeric])/numeric_range).sum(axis=2)\n",
    "    # matrix = [0]*total\n",
    "\n",
    "\n",
    "    # for index, value in enumerate(X):\n",
    "    #     row_cat = value[categorical]\n",
    "    #     row_num = value[numeric]\n",
    "    #     row_date = value[date_columns]\n",
    "    #     matrix_row = [0]*total\n",
    "    #     for i, val in enumerate(X):\n",
    "    #         dist = 0.0\n",
    "    #         # obs_cat = val[categorical]\n",
    "    #         # obs_num = val[numeric]\n",
    "    #         # obs_date = val[date_columns]\n",
    "    #         dist += (row_cat != val[categorical]).sum()\n",
    "    #         dist += (abs(row_num - val[numeric])/numeric_range).sum()\n",
    "    #         dist += date_diff(row_date, val[date_columns])/134.0\n",
    "    #         matrix_row[i] = dist\n",
    "    #     progress_bar(index+1, total, prefix = 'Progress:', suffix = 'Complete', length = 50)\n",
    "    #     matrix[index] = matrix_row\n",
    "    return y+t"
   ]
  },
  {
   "cell_type": "code",
   "execution_count": 151,
   "metadata": {},
   "outputs": [],
   "source": [
    "point1 = X[0]\n",
    "point2 = X[50000]\n",
    "date_columns = [1, 2]\n",
    "delt = dt.date(2008, point1[date_columns[0]], point1[date_columns[1]]) - dt.date(2008, point2[date_columns[0]], point2[date_columns[1]])\n",
    "# print(abs(delt.days))\n",
    "# print(point1[date_columns])\n",
    "distance = my_gower_metric(point1, point2)\n",
    "# print(point1)\n",
    "# print(point2)\n",
    "# print(distance)"
   ]
  },
  {
   "cell_type": "markdown",
   "metadata": {},
   "source": [
    "## Preparing K-means"
   ]
  },
  {
   "cell_type": "code",
   "execution_count": 42,
   "metadata": {},
   "outputs": [],
   "source": [
    "from pyclustering.utils import calculate_distance_matrix "
   ]
  },
  {
   "cell_type": "code",
   "execution_count": 128,
   "metadata": {},
   "outputs": [
    {
     "name": "stdout",
     "output_type": "stream",
     "text": [
      "[[ 0.  6. 20. 16.]\n",
      " [ 6.  0. 14. 14.]\n",
      " [20. 14.  0.  4.]\n",
      " [16. 14.  4.  0.]]\n"
     ]
    }
   ],
   "source": [
    "X_test = np.array([[0,0,0],[1, 1, 1], [2, 2, 4], [0, 3, 4]])\n",
    "col1 = np.reshape(np.repeat(X_test,X_test.shape[0], axis=0), [X_test.shape[0],X_test.shape[0],X_test.shape[1]])\n",
    "# print(col1)\n",
    "# y = np.not_equal(X_test[:, [0,1]], col1[:, :, [0,1]]).sum(axis=2)\n",
    "b = [0,2]\n",
    "range_mat = np.array([0.5,0.25])\n",
    "t = (np.abs(col1[:,:,b] - X_test[:, b])/range_mat).sum(axis=2)\n",
    "print(t)\n",
    "# X_test.shape"
   ]
  },
  {
   "cell_type": "code",
   "execution_count": 163,
   "metadata": {},
   "outputs": [
    {
     "name": "stdout",
     "output_type": "stream",
     "text": [
      "Progress: |██████████████████████████████████████████████████| 100.0% Complete\n",
      "\n",
      "Time 1:  13.738122463226318\n",
      "Time 2:  12.474714517593384\n",
      "Time 3:  7.402256488800049\n"
     ]
    }
   ],
   "source": [
    "X_test = X[:1000]\n",
    "progress_bar(0, X_test.shape[0], prefix = 'Progress:', suffix = 'Complete', length = 50)\n",
    "total_time1 = 0\n",
    "total_time2 = 0\n",
    "total_time3 = 0\n",
    "for i, val in enumerate(X_test):\n",
    "    for ind, value in enumerate(X_test):\n",
    "        _, t1, t2, t3 = my_gower(val, value)\n",
    "        total_time1 += t1\n",
    "        total_time2 += t2\n",
    "        total_time3 += t3\n",
    "    progress_bar(i+1, X_test.shape[0], prefix = 'Progress:', suffix = 'Complete', length = 50)\n",
    "print(\"\\n\")\n",
    "print(\"Time 1: \", total_time1)\n",
    "print(\"Time 2: \", total_time2)\n",
    "print(\"Time 3: \", total_time3)"
   ]
  },
  {
   "cell_type": "code",
   "execution_count": 158,
   "metadata": {},
   "outputs": [
    {
     "ename": "KeyboardInterrupt",
     "evalue": "",
     "output_type": "error",
     "traceback": [
      "\u001b[1;31m---------------------------------------------------------------------------\u001b[0m",
      "\u001b[1;31mKeyboardInterrupt\u001b[0m                         Traceback (most recent call last)",
      "\u001b[1;32md:\\Hubert\\Dokumenty\\Politechnika Warszawska\\IIAD\\Semestr IV\\Wstep do Uczenia Maszynowego\\Projekt\\2\\GIT\\e-shop_clothing\\Projek2.ipynb Cell 28'\u001b[0m in \u001b[0;36m<module>\u001b[1;34m\u001b[0m\n\u001b[0;32m      <a href='vscode-notebook-cell:/d%3A/Hubert/Dokumenty/Politechnika%20Warszawska/IIAD/Semestr%20IV/Wstep%20do%20Uczenia%20Maszynowego/Projekt/2/GIT/e-shop_clothing/Projek2.ipynb#ch0000017?line=1'>2</a>\u001b[0m initial_centers \u001b[39m=\u001b[39m [\u001b[39m0\u001b[39m,\u001b[39m1\u001b[39m,\u001b[39m2\u001b[39m]\n\u001b[0;32m      <a href='vscode-notebook-cell:/d%3A/Hubert/Dokumenty/Politechnika%20Warszawska/IIAD/Semestr%20IV/Wstep%20do%20Uczenia%20Maszynowego/Projekt/2/GIT/e-shop_clothing/Projek2.ipynb#ch0000017?line=2'>3</a>\u001b[0m instanceKm \u001b[39m=\u001b[39m kmedoids(X[:\u001b[39m1000\u001b[39m],initial_index_medoids\u001b[39m=\u001b[39minitial_centers, metric\u001b[39m=\u001b[39mmy_gower_metric)\n\u001b[1;32m----> <a href='vscode-notebook-cell:/d%3A/Hubert/Dokumenty/Politechnika%20Warszawska/IIAD/Semestr%20IV/Wstep%20do%20Uczenia%20Maszynowego/Projekt/2/GIT/e-shop_clothing/Projek2.ipynb#ch0000017?line=3'>4</a>\u001b[0m instanceKm\u001b[39m.\u001b[39;49mprocess()\n",
      "File \u001b[1;32md:\\Hubert\\Software\\Python\\Program Files\\lib\\site-packages\\pyclustering\\cluster\\kmedoids.py:164\u001b[0m, in \u001b[0;36mkmedoids.process\u001b[1;34m(self)\u001b[0m\n\u001b[0;32m    <a href='file:///d%3A/Hubert/Software/Python/Program%20Files/lib/site-packages/pyclustering/cluster/kmedoids.py?line=160'>161</a>\u001b[0m     current_deviation \u001b[39m=\u001b[39m \u001b[39mself\u001b[39m\u001b[39m.\u001b[39m__update_clusters()\n\u001b[0;32m    <a href='file:///d%3A/Hubert/Software/Python/Program%20Files/lib/site-packages/pyclustering/cluster/kmedoids.py?line=162'>163</a>\u001b[0m \u001b[39mwhile\u001b[39;00m (changes \u001b[39m>\u001b[39m \u001b[39mself\u001b[39m\u001b[39m.\u001b[39m__tolerance) \u001b[39mand\u001b[39;00m (iterations \u001b[39m<\u001b[39m \u001b[39mself\u001b[39m\u001b[39m.\u001b[39m__itermax):\n\u001b[1;32m--> <a href='file:///d%3A/Hubert/Software/Python/Program%20Files/lib/site-packages/pyclustering/cluster/kmedoids.py?line=163'>164</a>\u001b[0m     swap_cost \u001b[39m=\u001b[39m \u001b[39mself\u001b[39;49m\u001b[39m.\u001b[39;49m__swap_medoids()\n\u001b[0;32m    <a href='file:///d%3A/Hubert/Software/Python/Program%20Files/lib/site-packages/pyclustering/cluster/kmedoids.py?line=165'>166</a>\u001b[0m     \u001b[39mif\u001b[39;00m swap_cost \u001b[39m!=\u001b[39m \u001b[39mfloat\u001b[39m(\u001b[39m'\u001b[39m\u001b[39minf\u001b[39m\u001b[39m'\u001b[39m):\n\u001b[0;32m    <a href='file:///d%3A/Hubert/Software/Python/Program%20Files/lib/site-packages/pyclustering/cluster/kmedoids.py?line=166'>167</a>\u001b[0m         previous_deviation \u001b[39m=\u001b[39m current_deviation\n",
      "File \u001b[1;32md:\\Hubert\\Software\\Python\\Program Files\\lib\\site-packages\\pyclustering\\cluster\\kmedoids.py:356\u001b[0m, in \u001b[0;36mkmedoids.__swap_medoids\u001b[1;34m(self)\u001b[0m\n\u001b[0;32m    <a href='file:///d%3A/Hubert/Software/Python/Program%20Files/lib/site-packages/pyclustering/cluster/kmedoids.py?line=352'>353</a>\u001b[0m \u001b[39mif\u001b[39;00m (candidate_medoid_index \u001b[39min\u001b[39;00m \u001b[39mself\u001b[39m\u001b[39m.\u001b[39m__medoid_indexes) \u001b[39mor\u001b[39;00m (\u001b[39mself\u001b[39m\u001b[39m.\u001b[39m__distance_first_medoid[candidate_medoid_index] \u001b[39m==\u001b[39m \u001b[39m0.0\u001b[39m):\n\u001b[0;32m    <a href='file:///d%3A/Hubert/Software/Python/Program%20Files/lib/site-packages/pyclustering/cluster/kmedoids.py?line=353'>354</a>\u001b[0m     \u001b[39mcontinue\u001b[39;00m\n\u001b[1;32m--> <a href='file:///d%3A/Hubert/Software/Python/Program%20Files/lib/site-packages/pyclustering/cluster/kmedoids.py?line=355'>356</a>\u001b[0m swap_cost \u001b[39m=\u001b[39m \u001b[39mself\u001b[39;49m\u001b[39m.\u001b[39;49m__calculate_swap_cost(candidate_medoid_index, index_cluster)\n\u001b[0;32m    <a href='file:///d%3A/Hubert/Software/Python/Program%20Files/lib/site-packages/pyclustering/cluster/kmedoids.py?line=356'>357</a>\u001b[0m \u001b[39mif\u001b[39;00m swap_cost \u001b[39m<\u001b[39m optimal_swap_cost:\n\u001b[0;32m    <a href='file:///d%3A/Hubert/Software/Python/Program%20Files/lib/site-packages/pyclustering/cluster/kmedoids.py?line=357'>358</a>\u001b[0m     optimal_swap_cost \u001b[39m=\u001b[39m swap_cost\n",
      "File \u001b[1;32md:\\Hubert\\Software\\Python\\Program Files\\lib\\site-packages\\pyclustering\\cluster\\kmedoids.py:384\u001b[0m, in \u001b[0;36mkmedoids.__calculate_swap_cost\u001b[1;34m(self, index_candidate, cluster_index)\u001b[0m\n\u001b[0;32m    <a href='file:///d%3A/Hubert/Software/Python/Program%20Files/lib/site-packages/pyclustering/cluster/kmedoids.py?line=380'>381</a>\u001b[0m \u001b[39mif\u001b[39;00m index_point \u001b[39m==\u001b[39m index_candidate:\n\u001b[0;32m    <a href='file:///d%3A/Hubert/Software/Python/Program%20Files/lib/site-packages/pyclustering/cluster/kmedoids.py?line=381'>382</a>\u001b[0m     \u001b[39mcontinue\u001b[39;00m\n\u001b[1;32m--> <a href='file:///d%3A/Hubert/Software/Python/Program%20Files/lib/site-packages/pyclustering/cluster/kmedoids.py?line=383'>384</a>\u001b[0m candidate_distance \u001b[39m=\u001b[39m \u001b[39mself\u001b[39;49m\u001b[39m.\u001b[39;49m__distance_calculator(index_point, index_candidate)\n\u001b[0;32m    <a href='file:///d%3A/Hubert/Software/Python/Program%20Files/lib/site-packages/pyclustering/cluster/kmedoids.py?line=384'>385</a>\u001b[0m \u001b[39mif\u001b[39;00m \u001b[39mself\u001b[39m\u001b[39m.\u001b[39m__labels[index_point] \u001b[39m==\u001b[39m cluster_index:\n\u001b[0;32m    <a href='file:///d%3A/Hubert/Software/Python/Program%20Files/lib/site-packages/pyclustering/cluster/kmedoids.py?line=385'>386</a>\u001b[0m     cost \u001b[39m+\u001b[39m\u001b[39m=\u001b[39m \u001b[39mmin\u001b[39m(candidate_distance, \u001b[39mself\u001b[39m\u001b[39m.\u001b[39m__distance_second_medoid[index_point]) \u001b[39m-\u001b[39m \u001b[39mself\u001b[39m\u001b[39m.\u001b[39m__distance_first_medoid[index_point]\n",
      "File \u001b[1;32md:\\Hubert\\Software\\Python\\Program Files\\lib\\site-packages\\pyclustering\\cluster\\kmedoids.py:291\u001b[0m, in \u001b[0;36mkmedoids.__create_distance_calculator.<locals>.<lambda>\u001b[1;34m(index1, index2)\u001b[0m\n\u001b[0;32m    <a href='file:///d%3A/Hubert/Software/Python/Program%20Files/lib/site-packages/pyclustering/cluster/kmedoids.py?line=283'>284</a>\u001b[0m \u001b[39m\"\"\"!\u001b[39;00m\n\u001b[0;32m    <a href='file:///d%3A/Hubert/Software/Python/Program%20Files/lib/site-packages/pyclustering/cluster/kmedoids.py?line=284'>285</a>\u001b[0m \u001b[39m@brief Creates distance calculator in line with algorithms parameters.\u001b[39;00m\n\u001b[0;32m    <a href='file:///d%3A/Hubert/Software/Python/Program%20Files/lib/site-packages/pyclustering/cluster/kmedoids.py?line=285'>286</a>\u001b[0m \n\u001b[0;32m    <a href='file:///d%3A/Hubert/Software/Python/Program%20Files/lib/site-packages/pyclustering/cluster/kmedoids.py?line=286'>287</a>\u001b[0m \u001b[39m@return (callable) Distance calculator.\u001b[39;00m\n\u001b[0;32m    <a href='file:///d%3A/Hubert/Software/Python/Program%20Files/lib/site-packages/pyclustering/cluster/kmedoids.py?line=287'>288</a>\u001b[0m \n\u001b[0;32m    <a href='file:///d%3A/Hubert/Software/Python/Program%20Files/lib/site-packages/pyclustering/cluster/kmedoids.py?line=288'>289</a>\u001b[0m \u001b[39m\"\"\"\u001b[39;00m\n\u001b[0;32m    <a href='file:///d%3A/Hubert/Software/Python/Program%20Files/lib/site-packages/pyclustering/cluster/kmedoids.py?line=289'>290</a>\u001b[0m \u001b[39mif\u001b[39;00m \u001b[39mself\u001b[39m\u001b[39m.\u001b[39m__data_type \u001b[39m==\u001b[39m \u001b[39m'\u001b[39m\u001b[39mpoints\u001b[39m\u001b[39m'\u001b[39m:\n\u001b[1;32m--> <a href='file:///d%3A/Hubert/Software/Python/Program%20Files/lib/site-packages/pyclustering/cluster/kmedoids.py?line=290'>291</a>\u001b[0m     \u001b[39mreturn\u001b[39;00m \u001b[39mlambda\u001b[39;00m index1, index2: \u001b[39mself\u001b[39;49m\u001b[39m.\u001b[39;49m__metric(\u001b[39mself\u001b[39;49m\u001b[39m.\u001b[39;49m__pointer_data[index1], \u001b[39mself\u001b[39;49m\u001b[39m.\u001b[39;49m__pointer_data[index2])\n\u001b[0;32m    <a href='file:///d%3A/Hubert/Software/Python/Program%20Files/lib/site-packages/pyclustering/cluster/kmedoids.py?line=292'>293</a>\u001b[0m \u001b[39melif\u001b[39;00m \u001b[39mself\u001b[39m\u001b[39m.\u001b[39m__data_type \u001b[39m==\u001b[39m \u001b[39m'\u001b[39m\u001b[39mdistance_matrix\u001b[39m\u001b[39m'\u001b[39m:\n\u001b[0;32m    <a href='file:///d%3A/Hubert/Software/Python/Program%20Files/lib/site-packages/pyclustering/cluster/kmedoids.py?line=293'>294</a>\u001b[0m     \u001b[39mif\u001b[39;00m \u001b[39misinstance\u001b[39m(\u001b[39mself\u001b[39m\u001b[39m.\u001b[39m__pointer_data, numpy\u001b[39m.\u001b[39mmatrix):\n",
      "File \u001b[1;32md:\\Hubert\\Software\\Python\\Program Files\\lib\\site-packages\\pyclustering\\utils\\metric.py:132\u001b[0m, in \u001b[0;36mdistance_metric.__call__\u001b[1;34m(self, point1, point2)\u001b[0m\n\u001b[0;32m    <a href='file:///d%3A/Hubert/Software/Python/Program%20Files/lib/site-packages/pyclustering/utils/metric.py?line=121'>122</a>\u001b[0m \u001b[39mdef\u001b[39;00m \u001b[39m__call__\u001b[39m(\u001b[39mself\u001b[39m, point1, point2):\n\u001b[0;32m    <a href='file:///d%3A/Hubert/Software/Python/Program%20Files/lib/site-packages/pyclustering/utils/metric.py?line=122'>123</a>\u001b[0m     \u001b[39m\"\"\"!\u001b[39;00m\n\u001b[0;32m    <a href='file:///d%3A/Hubert/Software/Python/Program%20Files/lib/site-packages/pyclustering/utils/metric.py?line=123'>124</a>\u001b[0m \u001b[39m    @brief Calculates distance between two points.\u001b[39;00m\n\u001b[0;32m    <a href='file:///d%3A/Hubert/Software/Python/Program%20Files/lib/site-packages/pyclustering/utils/metric.py?line=124'>125</a>\u001b[0m \n\u001b[1;32m   (...)\u001b[0m\n\u001b[0;32m    <a href='file:///d%3A/Hubert/Software/Python/Program%20Files/lib/site-packages/pyclustering/utils/metric.py?line=129'>130</a>\u001b[0m \n\u001b[0;32m    <a href='file:///d%3A/Hubert/Software/Python/Program%20Files/lib/site-packages/pyclustering/utils/metric.py?line=130'>131</a>\u001b[0m \u001b[39m    \"\"\"\u001b[39;00m\n\u001b[1;32m--> <a href='file:///d%3A/Hubert/Software/Python/Program%20Files/lib/site-packages/pyclustering/utils/metric.py?line=131'>132</a>\u001b[0m     \u001b[39mreturn\u001b[39;00m \u001b[39mself\u001b[39;49m\u001b[39m.\u001b[39;49m__calculator(point1, point2)\n",
      "\u001b[1;32md:\\Hubert\\Dokumenty\\Politechnika Warszawska\\IIAD\\Semestr IV\\Wstep do Uczenia Maszynowego\\Projekt\\2\\GIT\\e-shop_clothing\\Projek2.ipynb Cell 21'\u001b[0m in \u001b[0;36mmy_gower\u001b[1;34m(point1, point2)\u001b[0m\n\u001b[0;32m      <a href='vscode-notebook-cell:/d%3A/Hubert/Dokumenty/Politechnika%20Warszawska/IIAD/Semestr%20IV/Wstep%20do%20Uczenia%20Maszynowego/Projekt/2/GIT/e-shop_clothing/Projek2.ipynb#ch0000023?line=8'>9</a>\u001b[0m numeric \u001b[39m=\u001b[39m [\u001b[39m3\u001b[39m, \u001b[39m11\u001b[39m] \u001b[39m# numeric features\u001b[39;00m\n\u001b[0;32m     <a href='vscode-notebook-cell:/d%3A/Hubert/Dokumenty/Politechnika%20Warszawska/IIAD/Semestr%20IV/Wstep%20do%20Uczenia%20Maszynowego/Projekt/2/GIT/e-shop_clothing/Projek2.ipynb#ch0000023?line=9'>10</a>\u001b[0m numeric_range \u001b[39m=\u001b[39m [\u001b[39m194\u001b[39m, \u001b[39m64\u001b[39m] \u001b[39m# range of numeric features\u001b[39;00m\n\u001b[1;32m---> <a href='vscode-notebook-cell:/d%3A/Hubert/Dokumenty/Politechnika%20Warszawska/IIAD/Semestr%20IV/Wstep%20do%20Uczenia%20Maszynowego/Projekt/2/GIT/e-shop_clothing/Projek2.ipynb#ch0000023?line=12'>13</a>\u001b[0m result \u001b[39m+\u001b[39m\u001b[39m=\u001b[39m (\u001b[39mabs\u001b[39;49m(point1[numeric] \u001b[39m-\u001b[39;49m point2[numeric])\u001b[39m/\u001b[39;49mnumeric_range)\u001b[39m.\u001b[39msum()\n\u001b[0;32m     <a href='vscode-notebook-cell:/d%3A/Hubert/Dokumenty/Politechnika%20Warszawska/IIAD/Semestr%20IV/Wstep%20do%20Uczenia%20Maszynowego/Projekt/2/GIT/e-shop_clothing/Projek2.ipynb#ch0000023?line=13'>14</a>\u001b[0m \u001b[39m# print(result)\u001b[39;00m\n\u001b[0;32m     <a href='vscode-notebook-cell:/d%3A/Hubert/Dokumenty/Politechnika%20Warszawska/IIAD/Semestr%20IV/Wstep%20do%20Uczenia%20Maszynowego/Projekt/2/GIT/e-shop_clothing/Projek2.ipynb#ch0000023?line=15'>16</a>\u001b[0m date_columns \u001b[39m=\u001b[39m [\u001b[39m1\u001b[39m, \u001b[39m2\u001b[39m] \u001b[39m# month and day\u001b[39;00m\n",
      "\u001b[1;31mKeyboardInterrupt\u001b[0m: "
     ]
    }
   ],
   "source": [
    "initial_centers = random.sample(range(0, df.shape[0]), 10)\n",
    "initial_centers = [0,1,2]\n",
    "instanceKm = kmedoids(X[:1000],initial_index_medoids=initial_centers, metric=my_gower_metric)\n",
    "instanceKm.process()"
   ]
  },
  {
   "cell_type": "code",
   "execution_count": null,
   "metadata": {},
   "outputs": [],
   "source": []
  }
 ],
 "metadata": {
  "interpreter": {
   "hash": "1907c0baa25ae88f00cdc025156e40ad7a317b7558ce724a61e04cde931c4259"
  },
  "kernelspec": {
   "display_name": "Python 3.9.6 64-bit",
   "language": "python",
   "name": "python3"
  },
  "language_info": {
   "codemirror_mode": {
    "name": "ipython",
    "version": 3
   },
   "file_extension": ".py",
   "mimetype": "text/x-python",
   "name": "python",
   "nbconvert_exporter": "python",
   "pygments_lexer": "ipython3",
   "version": "3.9.6"
  }
 },
 "nbformat": 4,
 "nbformat_minor": 4
}
