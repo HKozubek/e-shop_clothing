{
 "cells": [
  {
   "cell_type": "markdown",
   "id": "9d49f42f",
   "metadata": {},
   "source": [
    "# Projek2 WUM\n",
    "# e-shop clothing 2008\n",
    "## Hubert Kozubek Arkadiusz Kniaź"
   ]
  },
  {
   "cell_type": "code",
   "execution_count": 1,
   "id": "3b8abcb2",
   "metadata": {},
   "outputs": [
    {
     "name": "stderr",
     "output_type": "stream",
     "text": [
      "Warning message:\n",
      "\"package 'dplyr' was built under R version 3.6.3\"\n",
      "Attaching package: 'dplyr'\n",
      "\n",
      "The following objects are masked from 'package:stats':\n",
      "\n",
      "    filter, lag\n",
      "\n",
      "The following objects are masked from 'package:base':\n",
      "\n",
      "    intersect, setdiff, setequal, union\n",
      "\n",
      "Warning message:\n",
      "\"package 'ggplot2' was built under R version 3.6.3\"Warning message:\n",
      "\"package 'ggrepel' was built under R version 3.6.3\"Warning message:\n",
      "\"package 'stringr' was built under R version 3.6.3\"Warning message:\n",
      "\"package 'tidyr' was built under R version 3.6.3\"Warning message:\n",
      "\"package 'lubridate' was built under R version 3.6.3\"\n",
      "Attaching package: 'lubridate'\n",
      "\n",
      "The following objects are masked from 'package:base':\n",
      "\n",
      "    date, intersect, setdiff, union\n",
      "\n"
     ]
    },
    {
     "ename": "ERROR",
     "evalue": "Error in library(padr): there is no package called 'padr'\n",
     "output_type": "error",
     "traceback": [
      "Error in library(padr): there is no package called 'padr'\nTraceback:\n",
      "1. library(padr)"
     ]
    }
   ],
   "source": [
    "library(dplyr)\n",
    "library(ggplot2)\n",
    "library(dplyr)\n",
    "library(ggrepel)\n",
    "library(stringr)\n",
    "library(tidyr)\n",
    "library(lubridate)\n",
    "library(padr)\n",
    "library(zoo)\n",
    "library(janitor)"
   ]
  },
  {
   "cell_type": "code",
   "execution_count": 5,
   "id": "f38df7a2",
   "metadata": {},
   "outputs": [
    {
     "data": {
      "text/html": [
       "2"
      ],
      "text/latex": [
       "2"
      ],
      "text/markdown": [
       "2"
      ],
      "text/plain": [
       "[1] 2"
      ]
     },
     "metadata": {},
     "output_type": "display_data"
    }
   ],
   "source": [
    "a=2\n",
    "a"
   ]
  }
 ],
 "metadata": {
  "kernelspec": {
   "display_name": "R",
   "language": "R",
   "name": "ir"
  },
  "language_info": {
   "codemirror_mode": "r",
   "file_extension": ".r",
   "mimetype": "text/x-r-source",
   "name": "R",
   "pygments_lexer": "r",
   "version": "3.6.1"
  }
 },
 "nbformat": 4,
 "nbformat_minor": 5
}
